{
  "nbformat": 4,
  "nbformat_minor": 0,
  "metadata": {
    "colab": {
      "provenance": [],
      "gpuType": "T4"
    },
    "kernelspec": {
      "name": "python3",
      "display_name": "Python 3"
    },
    "language_info": {
      "name": "python"
    },
    "accelerator": "GPU"
  },
  "cells": [
    {
      "cell_type": "markdown",
      "source": [
        "**Check Age**"
      ],
      "metadata": {
        "id": "GIJ_En_TQTZM"
      }
    },
    {
      "cell_type": "code",
      "execution_count": 2,
      "metadata": {
        "colab": {
          "base_uri": "https://localhost:8080/"
        },
        "id": "_W_NCdyYQHd0",
        "outputId": "c6309b2e-afc6-45f7-e25b-09242c84a3df"
      },
      "outputs": [
        {
          "output_type": "stream",
          "name": "stdout",
          "text": [
            "how old are you?:21\n",
            "you are not allowed in class\n"
          ]
        }
      ],
      "source": [
        "age = int(input(\"how old are you?:\"))\n",
        "if age >10:\n",
        "    if age>=10 and age<=20:\n",
        "        print(\"you are allowed in class age limit in between 10 and 20\")\n",
        "    else:\n",
        "        print(\"you are not allowed in class\")\n",
        "else:\n",
        "    print(\"you are too young for the class\")\n",
        ""
      ]
    },
    {
      "cell_type": "markdown",
      "source": [
        "**Calculating Power**"
      ],
      "metadata": {
        "id": "8OxzVUvlQ-_k"
      }
    },
    {
      "cell_type": "code",
      "source": [
        "import math\n",
        "number=int(input(\"Enter a number \"))\n",
        "power=int(input(\"raised to the power of? \"))\n",
        "print(\"Answer= \",math.pow(number,power))"
      ],
      "metadata": {
        "colab": {
          "base_uri": "https://localhost:8080/"
        },
        "id": "5mS2GkJaRCqr",
        "outputId": "09c52f46-caa1-4497-b73e-71b0406ed5f9"
      },
      "execution_count": 5,
      "outputs": [
        {
          "output_type": "stream",
          "name": "stdout",
          "text": [
            "Enter a number 20\n",
            "raised to the power of? 4\n",
            "Answer=  160000.0\n"
          ]
        }
      ]
    },
    {
      "cell_type": "markdown",
      "source": [
        "**Reverse order**"
      ],
      "metadata": {
        "id": "BEernL_1RXy0"
      }
    },
    {
      "cell_type": "code",
      "source": [
        "num = int(input(\"Enter any number\\n\"))\n",
        "c=0\n",
        "n1=num\n",
        "while (num != 0):\n",
        "  num=num//10\n",
        "  c+=1\n",
        "a=0\n",
        "n2=0\n",
        "while (n1>0 and c>0):\n",
        "  a=n1%10\n",
        "  n2=n2+a*10**(c-1)\n",
        "  n1=n1//10\n",
        "  c-=1\n",
        "print(\"The reversed number is\",n2)\n",
        "\n",
        "\n"
      ],
      "metadata": {
        "colab": {
          "base_uri": "https://localhost:8080/"
        },
        "id": "nvMKjE_NRe0j",
        "outputId": "c507fca0-e961-48a1-c993-cbd7470f5361"
      },
      "execution_count": 11,
      "outputs": [
        {
          "output_type": "stream",
          "name": "stdout",
          "text": [
            "Enter any number\n",
            "1234\n",
            "The reversed number is 4321\n"
          ]
        }
      ]
    },
    {
      "cell_type": "markdown",
      "source": [
        "**Convert to Binary**"
      ],
      "metadata": {
        "id": "QUQqeIlFWLtW"
      }
    },
    {
      "cell_type": "code",
      "source": [
        "n=int(input(\"Enter a decimal number to convert into binary \"))\n",
        "n1=n\n",
        "l=[]\n",
        "a=0\n",
        "while(n>0):\n",
        "  a=n%2\n",
        "  n=n//2\n",
        "  c=(str)(a)\n",
        "  l.append(c)\n",
        "i=len(l)-1\n",
        "print(\"The converted binary number of {} is \".format(n1), end=\"\")\n",
        "while(i>=0):\n",
        "  print(l[i],end=\"\")\n",
        "  i-=1"
      ],
      "metadata": {
        "colab": {
          "base_uri": "https://localhost:8080/"
        },
        "id": "v4AJgR1YWPK-",
        "outputId": "4ceb25e1-0922-4d91-951c-1c64bdcd2084"
      },
      "execution_count": 27,
      "outputs": [
        {
          "output_type": "stream",
          "name": "stdout",
          "text": [
            "Enter a decimal number to convert into binary 64\n",
            "The converted binary number of 64 is 1000000"
          ]
        }
      ]
    },
    {
      "cell_type": "markdown",
      "source": [
        "**Pattern**"
      ],
      "metadata": {
        "id": "Y84RHPXxbIG7"
      }
    },
    {
      "cell_type": "code",
      "source": [
        "r = int(input(\" Enter the Total Number of Rows  : \"))\n",
        "\n",
        "print(\"Mirrored Right Triangle Star Pattern\")\n",
        "for i in range(1,r+1):\n",
        "    for j in range(1,r+1):\n",
        "        if(j <= r -i):\n",
        "            print(' ', end = '  ')\n",
        "        else:\n",
        "            print('*', end = '  ')\n",
        "    print()"
      ],
      "metadata": {
        "colab": {
          "base_uri": "https://localhost:8080/"
        },
        "id": "aJqQ4_gjbJrz",
        "outputId": "55ec4e75-5e17-4349-cee9-57f8c3f1beaf"
      },
      "execution_count": 28,
      "outputs": [
        {
          "output_type": "stream",
          "name": "stdout",
          "text": [
            " Enter the Total Number of Rows  : 5\n",
            "Mirrored Right Triangle Star Pattern\n",
            "            *  \n",
            "         *  *  \n",
            "      *  *  *  \n",
            "   *  *  *  *  \n",
            "*  *  *  *  *  \n"
          ]
        }
      ]
    },
    {
      "cell_type": "markdown",
      "source": [],
      "metadata": {
        "id": "csMn1mXjYiT9"
      }
    },
    {
      "cell_type": "markdown",
      "source": [
        "**Turtle**"
      ],
      "metadata": {
        "id": "v8vEMW_ab5ax"
      }
    },
    {
      "cell_type": "code",
      "source": [
        "import tkinter\n",
        "import turtle\n",
        "t = turtle.Turtle()\n",
        "s = int(input(\"Enter the length of the side of the Square: \"))\n",
        "for i in range(4):\n",
        "  # drawing first side\n",
        "  t.forward(50) # Forward turtle by s units\n",
        "  t.left(90) # Turn turtle by 90 degree"
      ],
      "metadata": {
        "id": "vAmW6YQKcUo7"
      },
      "execution_count": null,
      "outputs": []
    }
  ]
}