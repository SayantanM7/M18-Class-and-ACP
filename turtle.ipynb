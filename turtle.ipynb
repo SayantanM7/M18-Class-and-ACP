{
 "cells": [
  {
   "cell_type": "markdown",
   "metadata": {},
   "source": [
    "**Turtle Polygon**"
   ]
  },
  {
   "cell_type": "code",
   "execution_count": 1,
   "metadata": {},
   "outputs": [],
   "source": [
    "import turtle    #importing library\n",
    "turtle.Screen().bgcolor(\"orange\")\n",
    "turtle.Screen().setup(300,400)\n",
    "polygon = turtle.Turtle() #defined variable\n",
    " \n",
    "num_sides = 6 #variable\n",
    "side_length = 70\n",
    "angle = 360.0 / num_sides\n",
    "#iterate loop for total number of side\n",
    "for i in range(num_sides):\n",
    "    polygon.forward(side_length)\n",
    "    polygon.right(angle)\n",
    "     \n",
    "turtle.done()"
   ]
  },
  {
   "cell_type": "markdown",
   "metadata": {},
   "source": [
    "Star"
   ]
  },
  {
   "cell_type": "code",
   "execution_count": 3,
   "metadata": {},
   "outputs": [],
   "source": [
    "import turtle\n",
    "\n",
    "turtle.Screen().bgcolor(\"Aqua\")\n",
    "board = turtle.Turtle()\n",
    " \n",
    "# first triangle for star\n",
    "board.forward(100) # draw base\n",
    " \n",
    "board.left(120)\n",
    "board.forward(100)\n",
    " \n",
    "board.left(120)\n",
    "board.forward(100)\n",
    " \n",
    "board.penup()\n",
    "board.right(150)\n",
    "board.forward(50)\n",
    " \n",
    "# second triangle for star\n",
    "board.pendown()\n",
    "board.right(90)\n",
    "board.forward(100)\n",
    " \n",
    "board.right(120)\n",
    "board.forward(100)\n",
    " \n",
    "board.right(120)\n",
    "board.forward(100)\n",
    " \n",
    "turtle.done()"
   ]
  },
  {
   "cell_type": "markdown",
   "metadata": {},
   "source": [
    "Spiral pattern"
   ]
  },
  {
   "cell_type": "code",
   "execution_count": 1,
   "metadata": {},
   "outputs": [
    {
     "ename": "TclError",
     "evalue": "invalid command name \".!canvas\"",
     "output_type": "error",
     "traceback": [
      "\u001b[1;31m---------------------------------------------------------------------------\u001b[0m",
      "\u001b[1;31mTclError\u001b[0m                                  Traceback (most recent call last)",
      "Cell \u001b[1;32mIn[1], line 9\u001b[0m\n\u001b[0;32m      7\u001b[0m \u001b[38;5;28;01mwhile\u001b[39;00m \u001b[38;5;28;01mTrue\u001b[39;00m: \u001b[38;5;66;03m#iterate loop\u001b[39;00m\n\u001b[0;32m      8\u001b[0m   \u001b[38;5;28;01mfor\u001b[39;00m i \u001b[38;5;129;01min\u001b[39;00m \u001b[38;5;28mrange\u001b[39m(\u001b[38;5;241m4\u001b[39m): \n\u001b[1;32m----> 9\u001b[0m     my_pen\u001b[38;5;241m.\u001b[39mfd(size \u001b[38;5;241m+\u001b[39m \u001b[38;5;241m1\u001b[39m)\n\u001b[0;32m     10\u001b[0m     my_pen\u001b[38;5;241m.\u001b[39mleft(\u001b[38;5;241m90\u001b[39m)\n\u001b[0;32m     11\u001b[0m     size \u001b[38;5;241m=\u001b[39m size \u001b[38;5;241m-\u001b[39m \u001b[38;5;241m5\u001b[39m\n",
      "File \u001b[1;32mc:\\Users\\Sayantan\\anaconda3\\Lib\\turtle.py:1636\u001b[0m, in \u001b[0;36mTNavigator.forward\u001b[1;34m(self, distance)\u001b[0m\n\u001b[0;32m   1615\u001b[0m \u001b[38;5;28;01mdef\u001b[39;00m \u001b[38;5;21mforward\u001b[39m(\u001b[38;5;28mself\u001b[39m, distance):\n\u001b[0;32m   1616\u001b[0m \u001b[38;5;250m    \u001b[39m\u001b[38;5;124;03m\"\"\"Move the turtle forward by the specified distance.\u001b[39;00m\n\u001b[0;32m   1617\u001b[0m \n\u001b[0;32m   1618\u001b[0m \u001b[38;5;124;03m    Aliases: forward | fd\u001b[39;00m\n\u001b[1;32m   (...)\u001b[0m\n\u001b[0;32m   1634\u001b[0m \u001b[38;5;124;03m    (-50.00,0.00)\u001b[39;00m\n\u001b[0;32m   1635\u001b[0m \u001b[38;5;124;03m    \"\"\"\u001b[39;00m\n\u001b[1;32m-> 1636\u001b[0m     \u001b[38;5;28mself\u001b[39m\u001b[38;5;241m.\u001b[39m_go(distance)\n",
      "File \u001b[1;32mc:\\Users\\Sayantan\\anaconda3\\Lib\\turtle.py:1597\u001b[0m, in \u001b[0;36mTNavigator._go\u001b[1;34m(self, distance)\u001b[0m\n\u001b[0;32m   1595\u001b[0m \u001b[38;5;250m\u001b[39m\u001b[38;5;124;03m\"\"\"move turtle forward by specified distance\"\"\"\u001b[39;00m\n\u001b[0;32m   1596\u001b[0m ende \u001b[38;5;241m=\u001b[39m \u001b[38;5;28mself\u001b[39m\u001b[38;5;241m.\u001b[39m_position \u001b[38;5;241m+\u001b[39m \u001b[38;5;28mself\u001b[39m\u001b[38;5;241m.\u001b[39m_orient \u001b[38;5;241m*\u001b[39m distance\n\u001b[1;32m-> 1597\u001b[0m \u001b[38;5;28mself\u001b[39m\u001b[38;5;241m.\u001b[39m_goto(ende)\n",
      "File \u001b[1;32mc:\\Users\\Sayantan\\anaconda3\\Lib\\turtle.py:3248\u001b[0m, in \u001b[0;36mRawTurtle._goto\u001b[1;34m(self, end)\u001b[0m\n\u001b[0;32m   3246\u001b[0m     \u001b[38;5;28mself\u001b[39m\u001b[38;5;241m.\u001b[39m_position \u001b[38;5;241m=\u001b[39m start \u001b[38;5;241m+\u001b[39m delta \u001b[38;5;241m*\u001b[39m n\n\u001b[0;32m   3247\u001b[0m     \u001b[38;5;28;01mif\u001b[39;00m \u001b[38;5;28mself\u001b[39m\u001b[38;5;241m.\u001b[39m_drawing:\n\u001b[1;32m-> 3248\u001b[0m         screen\u001b[38;5;241m.\u001b[39m_drawline(\u001b[38;5;28mself\u001b[39m\u001b[38;5;241m.\u001b[39mdrawingLineItem,\n\u001b[0;32m   3249\u001b[0m                          (start, \u001b[38;5;28mself\u001b[39m\u001b[38;5;241m.\u001b[39m_position),\n\u001b[0;32m   3250\u001b[0m                          \u001b[38;5;28mself\u001b[39m\u001b[38;5;241m.\u001b[39m_pencolor, \u001b[38;5;28mself\u001b[39m\u001b[38;5;241m.\u001b[39m_pensize, top)\n\u001b[0;32m   3251\u001b[0m     \u001b[38;5;28mself\u001b[39m\u001b[38;5;241m.\u001b[39m_update()\n\u001b[0;32m   3252\u001b[0m \u001b[38;5;28;01mif\u001b[39;00m \u001b[38;5;28mself\u001b[39m\u001b[38;5;241m.\u001b[39m_drawing:\n",
      "File \u001b[1;32mc:\\Users\\Sayantan\\anaconda3\\Lib\\turtle.py:539\u001b[0m, in \u001b[0;36mTurtleScreenBase._drawline\u001b[1;34m(self, lineitem, coordlist, fill, width, top)\u001b[0m\n\u001b[0;32m    537\u001b[0m         cl\u001b[38;5;241m.\u001b[39mappend(x \u001b[38;5;241m*\u001b[39m \u001b[38;5;28mself\u001b[39m\u001b[38;5;241m.\u001b[39mxscale)\n\u001b[0;32m    538\u001b[0m         cl\u001b[38;5;241m.\u001b[39mappend(\u001b[38;5;241m-\u001b[39my \u001b[38;5;241m*\u001b[39m \u001b[38;5;28mself\u001b[39m\u001b[38;5;241m.\u001b[39myscale)\n\u001b[1;32m--> 539\u001b[0m     \u001b[38;5;28mself\u001b[39m\u001b[38;5;241m.\u001b[39mcv\u001b[38;5;241m.\u001b[39mcoords(lineitem, \u001b[38;5;241m*\u001b[39mcl)\n\u001b[0;32m    540\u001b[0m \u001b[38;5;28;01mif\u001b[39;00m fill \u001b[38;5;129;01mis\u001b[39;00m \u001b[38;5;129;01mnot\u001b[39;00m \u001b[38;5;28;01mNone\u001b[39;00m:\n\u001b[0;32m    541\u001b[0m     \u001b[38;5;28mself\u001b[39m\u001b[38;5;241m.\u001b[39mcv\u001b[38;5;241m.\u001b[39mitemconfigure(lineitem, fill\u001b[38;5;241m=\u001b[39mfill)\n",
      "File \u001b[1;32m<string>:1\u001b[0m, in \u001b[0;36mcoords\u001b[1;34m(self, *args, **kw)\u001b[0m\n",
      "File \u001b[1;32mc:\\Users\\Sayantan\\anaconda3\\Lib\\tkinter\\__init__.py:2851\u001b[0m, in \u001b[0;36mCanvas.coords\u001b[1;34m(self, *args)\u001b[0m\n\u001b[0;32m   2847\u001b[0m \u001b[38;5;250m\u001b[39m\u001b[38;5;124;03m\"\"\"Return a list of coordinates for the item given in ARGS.\"\"\"\u001b[39;00m\n\u001b[0;32m   2848\u001b[0m args \u001b[38;5;241m=\u001b[39m _flatten(args)\n\u001b[0;32m   2849\u001b[0m \u001b[38;5;28;01mreturn\u001b[39;00m [\u001b[38;5;28mself\u001b[39m\u001b[38;5;241m.\u001b[39mtk\u001b[38;5;241m.\u001b[39mgetdouble(x) \u001b[38;5;28;01mfor\u001b[39;00m x \u001b[38;5;129;01min\u001b[39;00m\n\u001b[0;32m   2850\u001b[0m                    \u001b[38;5;28mself\u001b[39m\u001b[38;5;241m.\u001b[39mtk\u001b[38;5;241m.\u001b[39msplitlist(\n\u001b[1;32m-> 2851\u001b[0m            \u001b[38;5;28mself\u001b[39m\u001b[38;5;241m.\u001b[39mtk\u001b[38;5;241m.\u001b[39mcall((\u001b[38;5;28mself\u001b[39m\u001b[38;5;241m.\u001b[39m_w, \u001b[38;5;124m'\u001b[39m\u001b[38;5;124mcoords\u001b[39m\u001b[38;5;124m'\u001b[39m) \u001b[38;5;241m+\u001b[39m args))]\n",
      "\u001b[1;31mTclError\u001b[0m: invalid command name \".!canvas\""
     ]
    }
   ],
   "source": [
    "import turtle     #importing library       \n",
    "my_wn = turtle.Screen()\n",
    "my_wn.bgcolor(\"light blue\") #screen background color\n",
    "my_wn.title(\"Turtle\")\n",
    "my_pen = turtle.Turtle()\n",
    "size = 0\n",
    "while True: #iterate loop\n",
    "  for i in range(4): \n",
    "    my_pen.fd(size + 1)\n",
    "    my_pen.left(90)\n",
    "    size = size - 5\n",
    "  size = size + 1"
   ]
  },
  {
   "cell_type": "markdown",
   "metadata": {},
   "source": [
    "spiral helix"
   ]
  },
  {
   "cell_type": "code",
   "execution_count": 2,
   "metadata": {},
   "outputs": [
    {
     "ename": "Terminator",
     "evalue": "",
     "output_type": "error",
     "traceback": [
      "\u001b[1;31m---------------------------------------------------------------------------\u001b[0m",
      "\u001b[1;31mTerminator\u001b[0m                                Traceback (most recent call last)",
      "Cell \u001b[1;32mIn[2], line 3\u001b[0m\n\u001b[0;32m      1\u001b[0m \u001b[38;5;28;01mimport\u001b[39;00m \u001b[38;5;21;01mturtle\u001b[39;00m \u001b[38;5;66;03m#importing library\u001b[39;00m\n\u001b[0;32m      2\u001b[0m loadWindow \u001b[38;5;241m=\u001b[39m turtle\u001b[38;5;241m.\u001b[39mScreen()\n\u001b[1;32m----> 3\u001b[0m turtle\u001b[38;5;241m.\u001b[39mspeed(\u001b[38;5;241m2\u001b[39m) \u001b[38;5;66;03m#speed of turtle\u001b[39;00m\n\u001b[0;32m      5\u001b[0m \u001b[38;5;28;01mfor\u001b[39;00m i \u001b[38;5;129;01min\u001b[39;00m \u001b[38;5;28mrange\u001b[39m(\u001b[38;5;241m100\u001b[39m): \u001b[38;5;66;03m#iterate for loop\u001b[39;00m\n\u001b[0;32m      6\u001b[0m     turtle\u001b[38;5;241m.\u001b[39mcircle(\u001b[38;5;241m5\u001b[39m\u001b[38;5;241m*\u001b[39mi)\n",
      "File \u001b[1;32m<string>:5\u001b[0m, in \u001b[0;36mspeed\u001b[1;34m(speed)\u001b[0m\n",
      "\u001b[1;31mTerminator\u001b[0m: "
     ]
    },
    {
     "ename": "",
     "evalue": "",
     "output_type": "error",
     "traceback": [
      "\u001b[1;31mThe Kernel crashed while executing code in the current cell or a previous cell. \n",
      "\u001b[1;31mPlease review the code in the cell(s) to identify a possible cause of the failure. \n",
      "\u001b[1;31mClick <a href='https://aka.ms/vscodeJupyterKernelCrash'>here</a> for more info. \n",
      "\u001b[1;31mView Jupyter <a href='command:jupyter.viewOutput'>log</a> for further details."
     ]
    }
   ],
   "source": [
    "import turtle #importing library\n",
    "loadWindow = turtle.Screen()\n",
    "turtle.speed(2) #speed of turtle\n",
    " \n",
    "for i in range(100): #iterate for loop\n",
    "    turtle.circle(5*i)\n",
    "    turtle.circle(-5*i)\n",
    "    turtle.left(i)\n",
    " \n",
    "turtle.exitonclick()\n"
   ]
  },
  {
   "cell_type": "markdown",
   "metadata": {},
   "source": [
    " colorful spiral"
   ]
  },
  {
   "cell_type": "code",
   "execution_count": null,
   "metadata": {},
   "outputs": [],
   "source": [
    "import turtle #importing library\n",
    "loadWindow = turtle.Screen()\n",
    "turtle.speed(2) #speed of turtle\n",
    " \n",
    "for i in range(100): #iterate for loop\n",
    "    turtle.circle(5*i)\n",
    "    turtle.circle(-5*i)\n",
    "    turtle.left(i)\n",
    " \n",
    "turtle.exitonclick()\n"
   ]
  }
 ],
 "metadata": {
  "kernelspec": {
   "display_name": "base",
   "language": "python",
   "name": "python3"
  },
  "language_info": {
   "codemirror_mode": {
    "name": "ipython",
    "version": 3
   },
   "file_extension": ".py",
   "mimetype": "text/x-python",
   "name": "python",
   "nbconvert_exporter": "python",
   "pygments_lexer": "ipython3",
   "version": "3.12.4"
  }
 },
 "nbformat": 4,
 "nbformat_minor": 2
}
