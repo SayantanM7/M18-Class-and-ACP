{
  "nbformat": 4,
  "nbformat_minor": 0,
  "metadata": {
    "colab": {
      "provenance": [],
      "gpuType": "V28"
    },
    "kernelspec": {
      "name": "python3",
      "display_name": "Python 3"
    },
    "language_info": {
      "name": "python"
    },
    "accelerator": "TPU"
  },
  "cells": [
    {
      "cell_type": "markdown",
      "source": [
        "**Character occurence**"
      ],
      "metadata": {
        "id": "EUO6FgDeRzWs"
      }
    },
    {
      "cell_type": "code",
      "source": [
        "#Take input of a word\n",
        "string = input(\"Please enter your own word : \")\n",
        "#take input of a character\n",
        "char = input(\"Please enter your own Character : \")\n",
        "i = 0\n",
        "count = 0\n",
        "#loop will to find the occurence of character\n",
        "while(i < len(string)): #string operation\n",
        "\n",
        "    if(string[i] == char): #condition 1\n",
        "        count = count + 1\n",
        "    i = i + 1\n",
        "\n",
        "#Display the result\n",
        "print(\"The total Number of Times \", char, \" has Occurred = \" , count)\n"
      ],
      "metadata": {
        "colab": {
          "base_uri": "https://localhost:8080/"
        },
        "id": "IDlEwpiLR_LF",
        "outputId": "ffb9206c-e7be-4909-e8c4-4bc60acf20b0"
      },
      "execution_count": 7,
      "outputs": [
        {
          "output_type": "stream",
          "name": "stdout",
          "text": [
            "Please enter your own word : abba\n",
            "Please enter your own Character : b\n",
            "The total Number of Times  b  has Occurred =  2\n"
          ]
        }
      ]
    },
    {
      "cell_type": "markdown",
      "source": [
        "**Prime numbers**"
      ],
      "metadata": {
        "id": "bf7Ya0WySVVZ"
      }
    },
    {
      "cell_type": "code",
      "source": [
        "#take two input from user\n",
        "lower = int(input(\"Enter a lower range: \"))\n",
        "upper = int(input(\"Enter a upper range: \"))\n",
        "\n",
        "print(\"Prime numbers between\", lower, \"and\", upper, \"are:\")\n",
        "#iterate loop from lower limit to upper limit\n",
        "for num in range(lower, upper + 1):\n",
        "   # all prime numbers are greater than 1\n",
        "   if num > 1:\n",
        "       for i in range(2, num):\n",
        "           if (num % i) == 0:\n",
        "               break\n",
        "       else:\n",
        "           print(num)"
      ],
      "metadata": {
        "colab": {
          "base_uri": "https://localhost:8080/"
        },
        "id": "kPhjGfwjSM8z",
        "outputId": "c0cad4dc-e963-46b8-86d8-40bf0a47ec67"
      },
      "execution_count": 8,
      "outputs": [
        {
          "output_type": "stream",
          "name": "stdout",
          "text": [
            "Enter a lower range: 10\n",
            "Enter a upper range: 20\n",
            "Prime numbers between 10 and 20 are:\n",
            "11\n",
            "13\n",
            "17\n",
            "19\n"
          ]
        }
      ]
    },
    {
      "cell_type": "markdown",
      "source": [
        "**Mid product**"
      ],
      "metadata": {
        "id": "zdkc9yXnSe08"
      }
    },
    {
      "cell_type": "code",
      "source": [
        "#Input a number\n",
        "num = int(input(\"Enter the number : \"))\n",
        "t = num\n",
        "numLen = 0\n",
        "#iterate the loop\n",
        "while t>0:\n",
        "  numLen = numLen+1\n",
        "  t = int(t/10)\n",
        "\n",
        "if numLen>=4: #condition 1\n",
        "  numLen = int(numLen/2)\n",
        "  chk = 0\n",
        "  while num>0: #iterate loop\n",
        "    rem = num%10\n",
        "    if chk==numLen: #nested condition 1\n",
        "      midOne = rem\n",
        "    elif chk==(numLen-1):\n",
        "      midTwo = rem\n",
        "    num = int(num/10)\n",
        "    chk = chk+1\n",
        "  prod = midOne*midTwo #product of middle digits\n",
        "  #display the result\n",
        "  print(\"\\nProduct of Mid digits (\" +str(midOne)+ \"*\" +str(midTwo)+ \") = \", prod)\n",
        "\n",
        "else:\n",
        "  print(\"\\nIt's not a 4 or more than 4-digit number!\")"
      ],
      "metadata": {
        "colab": {
          "base_uri": "https://localhost:8080/"
        },
        "id": "fIzltfcuSkNM",
        "outputId": "398bfbe6-64c6-4e8a-a003-d61ac8ad850b"
      },
      "execution_count": 10,
      "outputs": [
        {
          "output_type": "stream",
          "name": "stdout",
          "text": [
            "Enter the number : 1331\n",
            "\n",
            "Product of Mid digits (3*3) =  9\n"
          ]
        }
      ]
    },
    {
      "cell_type": "markdown",
      "source": [
        "**Strong number**"
      ],
      "metadata": {
        "id": "MYAOnBpfSrp8"
      }
    },
    {
      "cell_type": "code",
      "source": [
        "#Ask user to enter a number\n",
        "Number = int(input(\" Please Enter any Number: \"))\n",
        "Sum = 0 #initialise\n",
        "Temp = Number\n",
        "\n",
        "while(Temp > 0): #using while loop\n",
        "    Factorial = 1   # fact variable with 1\n",
        "    #intialize with 1\n",
        "    i = 1\n",
        "    Reminder = Temp % 10\n",
        "\n",
        "    while(i <= Reminder):\n",
        "        Factorial = Factorial * i # Find factorial of each number\n",
        "        i = i + 1\n",
        "\n",
        "    print(\"\\n Factorial of %d = %d\" %(Reminder, Factorial))\n",
        "    Sum = Sum + Factorial\n",
        "    Temp = Temp // 10\n",
        "\n",
        "#display output\n",
        "print(\"\\n Sum of Factorials of a Given Number %d = %d\" %(Number, Sum))\n",
        "\n",
        "if (Sum == Number):\n",
        "    print(\" %d is a Strong Number\" %Number)\n",
        "else:\n",
        "    print(\" %d is not a Strong Number\" %Number)"
      ],
      "metadata": {
        "colab": {
          "base_uri": "https://localhost:8080/"
        },
        "id": "gI82WXL5SyqN",
        "outputId": "52a4765c-be2c-4065-8dac-efa9a08fe020"
      },
      "execution_count": 11,
      "outputs": [
        {
          "output_type": "stream",
          "name": "stdout",
          "text": [
            " Please Enter any Number: 13\n",
            "\n",
            " Factorial of 3 = 6\n",
            "\n",
            " Factorial of 1 = 1\n",
            "\n",
            " Sum of Factorials of a Given Number 13 = 7\n",
            " 13 is not a Strong Number\n"
          ]
        }
      ]
    },
    {
      "cell_type": "markdown",
      "source": [
        "**Decimal to binary**"
      ],
      "metadata": {
        "id": "_TzNY7vxS-Zr"
      }
    },
    {
      "cell_type": "code",
      "source": [
        "decimal_num = int(input(\"Enter a decimal number: \"))\n",
        "\n",
        "binary_num = \"\"\n",
        "while (decimal_num > 0):\n",
        "  remainder = decimal_num % 2\n",
        "  binary_num = str(remainder) + binary_num\n",
        "  decimal_num //= 2\n",
        "\n",
        "print(\"The binary representation of\", decimal_num, \"is\", binary_num)\n",
        ""
      ],
      "metadata": {
        "colab": {
          "base_uri": "https://localhost:8080/"
        },
        "id": "tP73wxZhS96S",
        "outputId": "51c410e1-8762-4469-f466-f5504d3c0f8e"
      },
      "execution_count": 14,
      "outputs": [
        {
          "output_type": "stream",
          "name": "stdout",
          "text": [
            "Enter a decimal number: 9\n",
            "The binary representation of 0 is 1001\n"
          ]
        }
      ]
    }
  ]
}