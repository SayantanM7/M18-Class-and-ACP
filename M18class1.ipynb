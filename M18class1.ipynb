{
  "nbformat": 4,
  "nbformat_minor": 0,
  "metadata": {
    "colab": {
      "provenance": []
    },
    "kernelspec": {
      "name": "python3",
      "display_name": "Python 3"
    },
    "language_info": {
      "name": "python"
    }
  },
  "cells": [
    {
      "cell_type": "markdown",
      "source": [
        "**Exam Eligibility Check**"
      ],
      "metadata": {
        "id": "FZSzF8FRDNQH"
      }
    },
    {
      "cell_type": "code",
      "execution_count": 1,
      "metadata": {
        "colab": {
          "base_uri": "https://localhost:8080/"
        },
        "id": "32hVNCZqDEx1",
        "outputId": "8e4fc4ad-ad09-4e06-b313-ce8d47c062c1"
      },
      "outputs": [
        {
          "output_type": "stream",
          "name": "stdout",
          "text": [
            "did you have a medical cause Y or N: N\n",
            "enter the attendance of the student: 80\n",
            "Allowed\n"
          ]
        }
      ],
      "source": [
        "#Take input for the student that he can attend the exam or not\n",
        "medical_cause=input(\"did you have a medical cause Y or N: \")\n",
        "#Take input of the attendance\n",
        "atten = int(input(\"enter the attendance of the student: \"))\n",
        "\n",
        "#checking the user input predicting output accordingly\n",
        "\n",
        "if medical_cause == 'Y': #checking the condition 1\n",
        "  print (\"You are allowed\")\n",
        "else:\n",
        "  if atten>=75:  #checking the condition 2\n",
        "    print (\"Allowed\")\n",
        "  else:\n",
        "    print (\"Not allowed\")"
      ]
    },
    {
      "cell_type": "markdown",
      "source": [
        "**Electricity bill**"
      ],
      "metadata": {
        "id": "OPYw61OTDfzk"
      }
    },
    {
      "cell_type": "code",
      "source": [
        "# Take input of number of units consumed from the user\n",
        "units = int(input(\" Please enter Number of Units you Consumed : \"))\n",
        "\n",
        "# Check conditions of units consumed\n",
        "# Then calculate amount and surcharge accordingly\n",
        "# surcharge is the tax value\n",
        "\n",
        "# Check for units less than 50\n",
        "if(units < 50):\n",
        "    amount = units * 2.60\n",
        "    surcharge = 25\n",
        "\n",
        "# Check for units less than 100\n",
        "elif(units <= 100):\n",
        "    amount = 130 + ((units - 50) * 3.25)\n",
        "    surcharge = 35\n",
        "\n",
        "# Check for units less than or equal to 200\n",
        "elif(units <= 200):\n",
        "    amount = 130 + 162.50 + ((units - 100) * 5.26)\n",
        "    surcharge = 45\n",
        "\n",
        "# Check for all the cases other than mentioned\n",
        "# When units consumed are more than 200\n",
        "else:\n",
        "    amount = 130 + 162.50 + 526 + ((units - 200) * 8.45)\n",
        "    surcharge = 75\n",
        "\n",
        "# Calculate and Display the total electricity bill\n",
        "# total amount = amount + surcharge\n",
        "total = amount + surcharge\n",
        "print(\"\\nElectricity Bill = %.2f\"  %total)"
      ],
      "metadata": {
        "colab": {
          "base_uri": "https://localhost:8080/"
        },
        "id": "UWXklTwNDoUT",
        "outputId": "b95d7439-c1c8-41d4-a227-41b7e40f63e9"
      },
      "execution_count": 2,
      "outputs": [
        {
          "output_type": "stream",
          "name": "stdout",
          "text": [
            " Please enter Number of Units you Consumed : 120\n",
            "\n",
            "Electricity Bill = 442.70\n"
          ]
        }
      ]
    },
    {
      "cell_type": "markdown",
      "source": [
        "**Your Ride**"
      ],
      "metadata": {
        "id": "v6BlD_x6DxKM"
      }
    },
    {
      "cell_type": "code",
      "source": [
        "print(\"Select your ride: \")\n",
        "print(\"1. Bike\")\n",
        "print(\"2. Car\")\n",
        "#take input of number 1 or 2\n",
        "#select your ride\n",
        "choice = int( input(\"Enter your choice: \") )\n",
        "#User entering option 1\n",
        "if( choice == 1 ): #condition 1 outer if statement\n",
        "  print( \"what type of bike? \" )\n",
        "  print(\"1.Scooty\\n\")\n",
        "  print(\"2.Scooter\\n\")\n",
        "\n",
        "  #Condition for selecting the type of bike\n",
        "  choice2=int(input(\"Enter you choice2: \"))\n",
        "  if choice2==1: #inner if statement\n",
        "    print(\"you have selected scooty\")\n",
        "  else:\n",
        "    print(\"you have selected scooter\")\n",
        "\n",
        "#User entering option 2\n",
        "elif( choice == 2 ): #outer elif statement\n",
        "  print( \"what type of car?\" )\n",
        "  print(\"1.Sedan\")\n",
        "  print(\"2.XUV\")\n",
        "  choice3=int(input(\"enter your choice3: \"))\n",
        "  if choice3==1: #inner if statement\n",
        "  #condition for selecting the type of car\n",
        "    print(\"you have selected sedan\")\n",
        "  else:\n",
        "    print(\"you have selected XUV\")\n",
        "\n",
        "else: #outer else statement\n",
        "  print(\"Wrong choice!\")"
      ],
      "metadata": {
        "colab": {
          "base_uri": "https://localhost:8080/"
        },
        "id": "fT1qunU-D3_1",
        "outputId": "d269a80e-bfb2-40a8-e1d7-f4b181c77d55"
      },
      "execution_count": 3,
      "outputs": [
        {
          "output_type": "stream",
          "name": "stdout",
          "text": [
            "Select your ride: \n",
            "1. Bike\n",
            "2. Car\n",
            "Enter your choice: 1\n",
            "what type of bike? \n",
            "1.Scooty\n",
            "\n",
            "2.Scooter\n",
            "\n",
            "Enter you choice2: 1\n",
            "you have selected scooty\n"
          ]
        }
      ]
    },
    {
      "cell_type": "markdown",
      "source": [
        "**Check the character**"
      ],
      "metadata": {
        "id": "J-D6FZAxELOC"
      }
    },
    {
      "cell_type": "code",
      "source": [
        "#input a digit, letter or special character\n",
        "ch = input(\"Please Enter Your Own Character : \")\n",
        "\n",
        "if((ch >= 'a' and ch <= 'z') or (ch >= 'A' and ch <= 'Z')):\n",
        "  #check the alphabat\n",
        "    print(\"The Given Character \", ch, \"is an Alphabet\")\n",
        "elif(ch >= '0' and ch <= '9'):\n",
        "  #check the digit\n",
        "    print(\"The Given Character \", ch, \"is a Digit\")\n",
        "else:\n",
        "  #check the character other than character and digit\n",
        "    print(\"The Given Character \", ch, \"is a Special Character\")"
      ],
      "metadata": {
        "colab": {
          "base_uri": "https://localhost:8080/"
        },
        "id": "h4eDPO2QEOGR",
        "outputId": "78704972-a89c-4604-bf7f-63089819c0a2"
      },
      "execution_count": 4,
      "outputs": [
        {
          "output_type": "stream",
          "name": "stdout",
          "text": [
            "Please Enter Your Own Character : A\n",
            "The Given Character  A is an Alphabet\n"
          ]
        }
      ]
    },
    {
      "cell_type": "markdown",
      "source": [
        "**Older one**"
      ],
      "metadata": {
        "id": "Lke7DXENEbDc"
      }
    },
    {
      "cell_type": "code",
      "source": [
        "#Take input from user\n",
        "print(\"Check your is between 10 to 20 years or not\")\n",
        "x = int(input(\"enter your age: \"))\n",
        "\n",
        "\n",
        "if x > 10: #condition 1\n",
        "  print(\"Your age is more than 10 years\")\n",
        "  if x > 20: #nested condition\n",
        "    print(\"And it is more than 20 as well\")\n",
        "  else:\n",
        "    print(\"But it is less than or equal to 20\")"
      ],
      "metadata": {
        "colab": {
          "base_uri": "https://localhost:8080/"
        },
        "id": "472Ieg1hEavt",
        "outputId": "71137525-052d-47a4-df29-066a0addf6a6"
      },
      "execution_count": 9,
      "outputs": [
        {
          "output_type": "stream",
          "name": "stdout",
          "text": [
            "Check your is between 10 to 20 years or not\n",
            "enter your age: 20\n",
            "Your age is more than 10 years\n",
            "But it is less than or equal to 20\n"
          ]
        }
      ]
    }
  ]
}