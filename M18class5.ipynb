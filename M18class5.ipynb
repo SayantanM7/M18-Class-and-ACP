{
  "nbformat": 4,
  "nbformat_minor": 0,
  "metadata": {
    "colab": {
      "provenance": [],
      "gpuType": "V28"
    },
    "kernelspec": {
      "name": "python3",
      "display_name": "Python 3"
    },
    "language_info": {
      "name": "python"
    },
    "accelerator": "TPU"
  },
  "cells": [
    {
      "cell_type": "markdown",
      "source": [
        "**Pattern**"
      ],
      "metadata": {
        "id": "M9kC04PAYld4"
      }
    },
    {
      "cell_type": "code",
      "source": [
        "#Take input\n",
        "print(\"Half Pyramid Pattern of Stars (*):\")\n",
        "n = int(input(\"enter the number of rows: \"))\n",
        "#outer loop to handle number of rows\n",
        "for i in range(n):\n",
        "  #inner loop to handle number of columns\n",
        "    for j in range(i+1):\n",
        "      #display result\n",
        "        print(\"* \", end=\"\")\n",
        "    print()"
      ],
      "metadata": {
        "colab": {
          "base_uri": "https://localhost:8080/"
        },
        "id": "sSzNxd0SYnt4",
        "outputId": "27a8a806-a484-4841-df35-08123e8c39e1"
      },
      "execution_count": 15,
      "outputs": [
        {
          "output_type": "stream",
          "name": "stdout",
          "text": [
            "Half Pyramid Pattern of Stars (*):\n",
            "enter the number of rows: 5\n",
            "* \n",
            "* * \n",
            "* * * \n",
            "* * * * \n",
            "* * * * * \n"
          ]
        }
      ]
    },
    {
      "cell_type": "markdown",
      "source": [
        "**Floyd**"
      ],
      "metadata": {
        "id": "QKjaX-kcYxPG"
      }
    },
    {
      "cell_type": "code",
      "source": [
        "#Take input from user\n",
        "rows = int(input(\"Please Enter the total Number of Rows  : \"))\n",
        "number = 1 #initialise by 1\n",
        "\n",
        "print(\"Floyd's Triangle\")\n",
        "#outer loop for number of rows\n",
        "for i in range(1, rows + 1):\n",
        "  #inner loop for number of columns\n",
        "    for j in range(1, i + 1):\n",
        "      #display result\n",
        "        print(number, end = '  ')\n",
        "        number = number + 1\n",
        "    print()"
      ],
      "metadata": {
        "colab": {
          "base_uri": "https://localhost:8080/"
        },
        "id": "84Zpx-0PYzNl",
        "outputId": "1e1c569f-8d20-456f-8afb-c7c112d16734"
      },
      "execution_count": 16,
      "outputs": [
        {
          "output_type": "stream",
          "name": "stdout",
          "text": [
            "Please Enter the total Number of Rows  : 5\n",
            "Floyd's Triangle\n",
            "1  \n",
            "2  3  \n",
            "4  5  6  \n",
            "7  8  9  10  \n",
            "11  12  13  14  15  \n"
          ]
        }
      ]
    },
    {
      "cell_type": "markdown",
      "source": [
        "**Diamond**"
      ],
      "metadata": {
        "id": "OK4xUFsVY5wt"
      }
    },
    {
      "cell_type": "code",
      "source": [
        "#take input from user\n",
        "rowSize = int(input(\"enter the number of rows: \"))\n",
        "if rowSize%2==0: #conditions\n",
        "  halfDiamRow = int(rowSize/2)\n",
        "else:\n",
        "  halfDiamRow = int(rowSize/2)+1\n",
        "space = halfDiamRow-1\n",
        "#loop for upper part\n",
        "for i in range(1, halfDiamRow+1): #loop for rows\n",
        "  for j in range(1, space+1): #loop for columns\n",
        "    print(end=\" \")\n",
        "  space = space-1\n",
        "  num = 1\n",
        "  for j in range(2*i-1):\n",
        "    print(end=str(num))\n",
        "  #incerementing number at each column\n",
        "    num = num+1\n",
        "  print()\n",
        "space = 1\n",
        "#loop for lower part\n",
        "for i in range(1, halfDiamRow): #loop for rows\n",
        "  for j in range(1, space+1):  #loop for columns\n",
        "    print(end=\" \")\n",
        "  space = space+1\n",
        "  num = 1\n",
        "  for j in range(1, 2*(halfDiamRow-i)):\n",
        "    print(end=str(num)) #display result\n",
        "  #incerementing number at each column\n",
        "    num = num+1\n",
        "  print()\n"
      ],
      "metadata": {
        "colab": {
          "base_uri": "https://localhost:8080/"
        },
        "id": "E65zbbmhY8Hl",
        "outputId": "b813ab5b-c011-411a-8d23-c436ceffade4"
      },
      "execution_count": 18,
      "outputs": [
        {
          "output_type": "stream",
          "name": "stdout",
          "text": [
            "enter the number of rows: 5\n",
            "  1\n",
            " 123\n",
            "12345\n",
            " 123\n",
            "  1\n"
          ]
        }
      ]
    },
    {
      "cell_type": "markdown",
      "source": [
        "**Diamond shape**"
      ],
      "metadata": {
        "id": "Bo1R9l0WZEl-"
      }
    },
    {
      "cell_type": "code",
      "source": [
        "rowNum = 5 #initialised number of rows 5\n",
        "space = rowNum-1\n",
        "\n",
        "for i in range(1, rowNum+1): #loops for rows\n",
        "  for j in range(1, space+1): #loop for space\n",
        "    print(end=\" \")\n",
        "  space = space-1\n",
        "\n",
        "  for j in range(2*i-1): #loop for upper part of diamond\n",
        "    print(end=\"*\")\n",
        "  print()\n",
        "space = 1\n",
        "#loops for lower part of diamond\n",
        "for i in range(1, rowNum):\n",
        "  for j in range(1, space+1):\n",
        "    print(end=\" \")\n",
        "  space = space+1\n",
        "  for j in range(1, 2*(rowNum-i)):\n",
        "    print(end=\"*\")\n",
        "  print()\n"
      ],
      "metadata": {
        "colab": {
          "base_uri": "https://localhost:8080/"
        },
        "id": "92mxCl4UZGXw",
        "outputId": "f476627c-445d-4090-d737-629a4a3cdda1"
      },
      "execution_count": 19,
      "outputs": [
        {
          "output_type": "stream",
          "name": "stdout",
          "text": [
            "    *\n",
            "   ***\n",
            "  *****\n",
            " *******\n",
            "*********\n",
            " *******\n",
            "  *****\n",
            "   ***\n",
            "    *\n"
          ]
        }
      ]
    },
    {
      "cell_type": "markdown",
      "source": [
        "**Designer Doormat Welcome**"
      ],
      "metadata": {
        "id": "rmCQWYTZZMOn"
      }
    },
    {
      "cell_type": "code",
      "source": [
        "#input the number of rows\n",
        "N = int(input(\"enter number of rows: \"))\n",
        "#input the number of columns\n",
        "M = int(input(\"enter number of columns: \"))\n",
        "for i in range(1, N, 2): #iterate for loop\n",
        "    print((i * \".|.\").center(M,\"-\")) #display output\n",
        "print(\"WELCOME\".center(M, \"-\"))\n",
        "for i in range(N-2, -1, -2):\n",
        "    print((i * \".|.\").center(M, \"-\"))"
      ],
      "metadata": {
        "colab": {
          "base_uri": "https://localhost:8080/"
        },
        "id": "Hn08gu1TZO-n",
        "outputId": "acedae5a-8c6d-46fb-f414-28f0fee21e35"
      },
      "execution_count": 23,
      "outputs": [
        {
          "output_type": "stream",
          "name": "stdout",
          "text": [
            "enter number of rows: 10\n",
            "enter number of columns: 5\n",
            "-.|.-\n",
            ".|..|..|.\n",
            ".|..|..|..|..|.\n",
            ".|..|..|..|..|..|..|.\n",
            ".|..|..|..|..|..|..|..|..|.\n",
            "WELCOME\n",
            ".|..|..|..|..|..|..|..|.\n",
            ".|..|..|..|..|..|.\n",
            ".|..|..|..|.\n",
            ".|..|.\n",
            "-----\n"
          ]
        }
      ]
    }
  ]
}