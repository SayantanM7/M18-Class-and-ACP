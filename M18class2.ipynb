{
  "nbformat": 4,
  "nbformat_minor": 0,
  "metadata": {
    "colab": {
      "provenance": []
    },
    "kernelspec": {
      "name": "python3",
      "display_name": "Python 3"
    },
    "language_info": {
      "name": "python"
    }
  },
  "cells": [
    {
      "cell_type": "markdown",
      "source": [
        "**Age**"
      ],
      "metadata": {
        "id": "Ny2EVSOnFZGb"
      }
    },
    {
      "cell_type": "code",
      "source": [
        "age=int(input(\"Enter your age:\"))\n",
        "if age>=10:\n",
        "  if age<=20:\n",
        "    print (\"Your age is : \", age,\" \\n You are allowed to enter the class\")\n",
        "  else:\n",
        "    print (\"Your age is:\",age , \" \\nYou are not allowed to enter the class\")\n",
        "else:\n",
        "  print(\"Your age is:\",age, \" \\n You are not eligible\")\n",
        "\n"
      ],
      "metadata": {
        "colab": {
          "base_uri": "https://localhost:8080/"
        },
        "id": "4r4I2A7jFmME",
        "outputId": "7cdd9899-6d91-46df-b4e4-01426fc522c9"
      },
      "execution_count": 10,
      "outputs": [
        {
          "output_type": "stream",
          "name": "stdout",
          "text": [
            "Enter your age:20\n",
            "Your age is :  20  \n",
            " You are allowed to enter the class\n"
          ]
        }
      ]
    },
    {
      "cell_type": "markdown",
      "source": [
        "**Reverse a string**"
      ],
      "metadata": {
        "id": "Gocx22jvFvPE"
      }
    },
    {
      "cell_type": "code",
      "source": [
        "#Input a word or sentence\n",
        "string = input(\"Please enter your own String : \")\n",
        "\n",
        "string2 = ('')\n",
        "#loop for printing in reverse\n",
        "for i in string:\n",
        "    string2 = i + string2\n",
        "\n",
        "print(\"\\nThe Original String = \", string)\n",
        "print(\"The Reversed String = \", string2)\n"
      ],
      "metadata": {
        "colab": {
          "base_uri": "https://localhost:8080/"
        },
        "id": "nnM9-_t4Fyx4",
        "outputId": "7698dea4-6ed8-4d8d-c4ac-5adfb9e8a310"
      },
      "execution_count": 11,
      "outputs": [
        {
          "output_type": "stream",
          "name": "stdout",
          "text": [
            "Please enter your own String : sayantan\n",
            "\n",
            "The Original String =  sayantan\n",
            "The Reversed String =  natnayas\n"
          ]
        }
      ]
    },
    {
      "cell_type": "markdown",
      "source": [
        "**Reverse order**"
      ],
      "metadata": {
        "id": "AhfL8c85Gb35"
      }
    },
    {
      "cell_type": "code",
      "source": [
        "my_list = [1, 2, 3, 4, 5]\n",
        "reversed_lst = []\n",
        "for i in range(len(my_list) - 1, -1, -1):\n",
        "  reversed_lst.append(my_list[i])\n",
        "print(reversed_lst)"
      ],
      "metadata": {
        "colab": {
          "base_uri": "https://localhost:8080/"
        },
        "id": "S8wzN5nVGe2Q",
        "outputId": "8e3f5535-4019-4a31-a4d3-4d8e85251c4f"
      },
      "execution_count": 12,
      "outputs": [
        {
          "output_type": "stream",
          "name": "stdout",
          "text": [
            "[5, 4, 3, 2, 1]\n"
          ]
        }
      ]
    },
    {
      "cell_type": "markdown",
      "source": [
        "**Prominent word**"
      ],
      "metadata": {
        "id": "qcHs5TrJHraA"
      }
    },
    {
      "cell_type": "code",
      "source": [
        "text = input((\"Enter a sentence: \"))\n",
        "text = text.split()\n",
        "bigWordLen = 0 #initialise\n",
        "\n",
        "for wrd in text: #iterate loop\n",
        "  wrdLen = len(wrd) #string operation\n",
        "  if wrdLen>bigWordLen: #condition 1\n",
        "    bigWordLen = wrdLen\n",
        "\n",
        "print(\"\\nLargest Word: \")\n",
        "for wrd in text:\n",
        "  wrdLen = len(wrd)\n",
        "  if wrdLen==bigWordLen: #condition 2\n",
        "    print(wrd) #display result\n"
      ],
      "metadata": {
        "colab": {
          "base_uri": "https://localhost:8080/"
        },
        "id": "LkvRzgcOHtvK",
        "outputId": "1afe8a40-b329-4ea0-d3b6-bd707b65c63c"
      },
      "execution_count": 13,
      "outputs": [
        {
          "output_type": "stream",
          "name": "stdout",
          "text": [
            "Enter a sentence: I love coding\n",
            "\n",
            "Largest Word: \n",
            "coding\n"
          ]
        }
      ]
    },
    {
      "cell_type": "markdown",
      "source": [
        "**Total number of words**"
      ],
      "metadata": {
        "id": "DSvCsMzhH51G"
      }
    },
    {
      "cell_type": "code",
      "source": [
        "#Take input of a string\n",
        "str1 = input(\"Please Enter a sentence: \")\n",
        "total = 1 #initialise\n",
        "\n",
        "for i in range(len(str1)):\n",
        "#loop will run to calculate the length using string operation\n",
        "    if(str1[i] == ' ' ):\n",
        "    #condition 1\n",
        "        total = total + 1\n",
        "\n",
        "print(\"Total Number of Words in this String = \", total)\n",
        "\n"
      ],
      "metadata": {
        "colab": {
          "base_uri": "https://localhost:8080/"
        },
        "id": "wPteELQSH9cE",
        "outputId": "359a17c1-ce95-4e80-a68f-e2f24111cb3d"
      },
      "execution_count": 14,
      "outputs": [
        {
          "output_type": "stream",
          "name": "stdout",
          "text": [
            "Please Enter a sentence: I love coding\n",
            "Total Number of Words in this String =  3\n"
          ]
        }
      ]
    }
  ]
}